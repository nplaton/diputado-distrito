{
 "cells": [
  {
   "cell_type": "markdown",
   "metadata": {},
   "source": [
    "# Diputado Distrito"
   ]
  },
  {
   "cell_type": "markdown",
   "metadata": {},
   "source": [
    "#### Imports"
   ]
  },
  {
   "cell_type": "code",
   "execution_count": 1,
   "metadata": {},
   "outputs": [],
   "source": [
    "import time\n",
    "import subprocess\n",
    "import math\n",
    "from pathlib import Path\n",
    "import warnings\n",
    "                                                                                                            \n",
    "from tqdm.notebook import tqdm\n",
    "\n",
    "import pandas as pd\n",
    "import geopandas as gpd\n",
    "from keplergl import KeplerGl\n",
    "import psycopg2 as psql\n",
    "from sqlalchemy import create_engine\n",
    "from functools import partial\n",
    "import matplotlib.pyplot as plt\n",
    "\n",
    "from networkx import is_connected, connected_components\n",
    "from gerrychain import (\n",
    "    Graph, updaters, Partition, constraints, MarkovChain, accept, proposals,\n",
    "    tree, random\n",
    ")"
   ]
  },
  {
   "cell_type": "markdown",
   "metadata": {},
   "source": [
    "### Config"
   ]
  },
  {
   "cell_type": "code",
   "execution_count": 3,
   "metadata": {},
   "outputs": [],
   "source": [
    "# When being run in collab please set to False\n",
    "query_postgres = False\n",
    "\n",
    "# Define seed\n",
    "seed = 42\n",
    "\n",
    "# Province to study\n",
    "province_id = '30'\n",
    "\n",
    "\n",
    "# GerryChain parameters\n",
    "\n",
    "# Wanted district size in population\n",
    "target = 33000\n",
    "\n",
    "# Variable which we are using to create district over target value\n",
    "variable = \"pob_t_total\"\n",
    "\n",
    "# Parameter for spanning tree method, set to 2 is fine\n",
    "node_repeats = 2\n",
    "\n",
    "# Epson tolerance for map to initialize\n",
    "init_epsilon = 0.285\n",
    "\n",
    "# Error tolerance for districts\n",
    "epsilon = 0.2\n",
    "\n",
    "# Percentage difference between populations mac vs low\n",
    "partition_percentage = 0.45\n",
    "\n",
    "# Maximum number of possible values\n",
    "total_steps =  56\n",
    "\n",
    "# From the total_steps obtain the top maps that minimize the population best\n",
    "top_iteration = 10"
   ]
  },
  {
   "cell_type": "code",
   "execution_count": 2,
   "metadata": {
    "tags": [
     "parameters"
    ]
   },
   "outputs": [],
   "source": [
    "# When being run in collab please set to False\n",
    "query_postgres = None # True\n",
    "\n",
    "# Define seed\n",
    "seed = None # 42\n",
    "\n",
    "# Province to study\n",
    "province_id = '' # '30'\n",
    "\n",
    "\n",
    "# GerryChain parameters\n",
    "\n",
    "# Wanted district size in population\n",
    "target = None # 33000\n",
    "\n",
    "# Variable which we are using to create district over target value\n",
    "variable = \"\" # \"pob_t_total\"\n",
    "\n",
    "# Parameter for spanning tree method, set to 2 is fine\n",
    "node_repeats = None # 2\n",
    "\n",
    "# Epson tolerance for map to initialize\n",
    "init_epsilon = None # 0.285\n",
    "\n",
    "# Error tolerance for districts\n",
    "epsilon = None # 0.2\n",
    "\n",
    "# Percentage difference between populations mac vs low\n",
    "partition_percentage = None\n",
    "\n",
    "# Maximum number of possible values\n",
    "total_steps =  None # 56\n",
    "\n",
    "# From the total_steps obtain the top maps that minimize the population best\n",
    "top_iteration = None # 10\n"
   ]
  },
  {
   "cell_type": "code",
   "execution_count": 4,
   "metadata": {},
   "outputs": [],
   "source": [
    "# reproducibility\n",
    "random.random.seed(seed)"
   ]
  },
  {
   "cell_type": "code",
   "execution_count": 5,
   "metadata": {},
   "outputs": [
    {
     "data": {
      "text/plain": [
       "0"
      ]
     },
     "execution_count": 5,
     "metadata": {},
     "output_type": "execute_result"
    }
   ],
   "source": [
    "# base path\n",
    "base_path = Path().absolute()\n",
    "\n",
    "# Uncomment when using a specific notebook of province\n",
    "# base_path = base_path.parent\n",
    "\n",
    "# Create data folder for each province\n",
    "subprocess.call(['mkdir', '-p', base_path.joinpath(f'data/{province_id}')])\n",
    "\n",
    "# Create a map folder for each province\n",
    "subprocess.call(['mkdir', '-p', base_path.joinpath(f'maps/{province_id}')])"
   ]
  },
  {
   "cell_type": "code",
   "execution_count": 6,
   "metadata": {},
   "outputs": [],
   "source": [
    "psql_config = {\n",
    "    'database': '',\n",
    "    'user': '',\n",
    "    'password': '',\n",
    "    'host': '',\n",
    "    'port': ''\n",
    "}\n",
    "\n",
    "\n",
    "if query_postgres:\n",
    "    conn = psql.connect(**psql_config)"
   ]
  },
  {
   "cell_type": "code",
   "execution_count": 7,
   "metadata": {},
   "outputs": [
    {
     "data": {
      "text/html": [
       "<div>\n",
       "<style scoped>\n",
       "    .dataframe tbody tr th:only-of-type {\n",
       "        vertical-align: middle;\n",
       "    }\n",
       "\n",
       "    .dataframe tbody tr th {\n",
       "        vertical-align: top;\n",
       "    }\n",
       "\n",
       "    .dataframe thead th {\n",
       "        text-align: right;\n",
       "    }\n",
       "</style>\n",
       "<table border=\"1\" class=\"dataframe\">\n",
       "  <thead>\n",
       "    <tr style=\"text-align: right;\">\n",
       "      <th></th>\n",
       "      <th>id_area</th>\n",
       "      <th>name</th>\n",
       "      <th>pob_t_total</th>\n",
       "      <th>geometry</th>\n",
       "    </tr>\n",
       "  </thead>\n",
       "  <tbody>\n",
       "    <tr>\n",
       "      <th>0</th>\n",
       "      <td>30</td>\n",
       "      <td>Murcia</td>\n",
       "      <td>1493898.0</td>\n",
       "      <td>MULTIPOLYGON (((-1.54669 37.40733, -1.54845 37...</td>\n",
       "    </tr>\n",
       "  </tbody>\n",
       "</table>\n",
       "</div>"
      ],
      "text/plain": [
       "  id_area    name  pob_t_total  \\\n",
       "0      30  Murcia    1493898.0   \n",
       "\n",
       "                                            geometry  \n",
       "0  MULTIPOLYGON (((-1.54669 37.40733, -1.54845 37...  "
      ]
     },
     "execution_count": 7,
     "metadata": {},
     "output_type": "execute_result"
    }
   ],
   "source": [
    "query = f\"\"\"\n",
    "\n",
    "\"\"\"\n",
    "\n",
    "if query_postgres:\n",
    "    province = gpd.GeoDataFrame.from_postgis(query, conn, geom_col='geometry')\n",
    "else:\n",
    "    province = gpd.read_parquet(base_path.joinpath('data', province_id, 'province.parquet'))\n",
    "\n",
    "province.head()"
   ]
  },
  {
   "cell_type": "code",
   "execution_count": 8,
   "metadata": {},
   "outputs": [],
   "source": [
    "if query_postgres:\n",
    "    province.to_parquet(base_path.joinpath('data', province_id, 'province.parquet'))"
   ]
  },
  {
   "cell_type": "code",
   "execution_count": 9,
   "metadata": {},
   "outputs": [
    {
     "data": {
      "text/html": [
       "<div>\n",
       "<style scoped>\n",
       "    .dataframe tbody tr th:only-of-type {\n",
       "        vertical-align: middle;\n",
       "    }\n",
       "\n",
       "    .dataframe tbody tr th {\n",
       "        vertical-align: top;\n",
       "    }\n",
       "\n",
       "    .dataframe thead th {\n",
       "        text-align: right;\n",
       "    }\n",
       "</style>\n",
       "<table border=\"1\" class=\"dataframe\">\n",
       "  <thead>\n",
       "    <tr style=\"text-align: right;\">\n",
       "      <th></th>\n",
       "      <th>id_area</th>\n",
       "      <th>name</th>\n",
       "      <th>pob_t_total</th>\n",
       "      <th>geometry</th>\n",
       "    </tr>\n",
       "  </thead>\n",
       "  <tbody>\n",
       "    <tr>\n",
       "      <th>0</th>\n",
       "      <td>30021</td>\n",
       "      <td>Fuente Álamo de Murcia</td>\n",
       "      <td>16583.0</td>\n",
       "      <td>MULTIPOLYGON (((-1.17607 37.65952, -1.17662 37...</td>\n",
       "    </tr>\n",
       "    <tr>\n",
       "      <th>1</th>\n",
       "      <td>30019</td>\n",
       "      <td>Cieza</td>\n",
       "      <td>34988.0</td>\n",
       "      <td>MULTIPOLYGON (((-1.31888 38.31345, -1.31911 38...</td>\n",
       "    </tr>\n",
       "    <tr>\n",
       "      <th>2</th>\n",
       "      <td>30902</td>\n",
       "      <td>Alcázares, Los</td>\n",
       "      <td>16138.0</td>\n",
       "      <td>MULTIPOLYGON (((-0.85187 37.73054, -0.85315 37...</td>\n",
       "    </tr>\n",
       "    <tr>\n",
       "      <th>3</th>\n",
       "      <td>30901</td>\n",
       "      <td>Santomera</td>\n",
       "      <td>16206.0</td>\n",
       "      <td>MULTIPOLYGON (((-1.03423 38.04692, -1.03974 38...</td>\n",
       "    </tr>\n",
       "    <tr>\n",
       "      <th>4</th>\n",
       "      <td>30043</td>\n",
       "      <td>Yecla</td>\n",
       "      <td>34432.0</td>\n",
       "      <td>MULTIPOLYGON (((-1.11967 38.73772, -1.11677 38...</td>\n",
       "    </tr>\n",
       "  </tbody>\n",
       "</table>\n",
       "</div>"
      ],
      "text/plain": [
       "  id_area                    name  pob_t_total  \\\n",
       "0   30021  Fuente Álamo de Murcia      16583.0   \n",
       "1   30019                   Cieza      34988.0   \n",
       "2   30902          Alcázares, Los      16138.0   \n",
       "3   30901               Santomera      16206.0   \n",
       "4   30043                   Yecla      34432.0   \n",
       "\n",
       "                                            geometry  \n",
       "0  MULTIPOLYGON (((-1.17607 37.65952, -1.17662 37...  \n",
       "1  MULTIPOLYGON (((-1.31888 38.31345, -1.31911 38...  \n",
       "2  MULTIPOLYGON (((-0.85187 37.73054, -0.85315 37...  \n",
       "3  MULTIPOLYGON (((-1.03423 38.04692, -1.03974 38...  \n",
       "4  MULTIPOLYGON (((-1.11967 38.73772, -1.11677 38...  "
      ]
     },
     "execution_count": 9,
     "metadata": {},
     "output_type": "execute_result"
    }
   ],
   "source": [
    "query = f\"\"\"\n",
    "\n",
    "\"\"\"\n",
    "\n",
    "if query_postgres:\n",
    "    municipality = gpd.GeoDataFrame.from_postgis(query, conn, geom_col='geometry')\n",
    "else:\n",
    "    municipality = gpd.read_parquet(base_path.joinpath('data', province_id, 'municipality.parquet'))\n",
    "\n",
    "municipality.head()"
   ]
  },
  {
   "cell_type": "code",
   "execution_count": 10,
   "metadata": {},
   "outputs": [],
   "source": [
    "if query_postgres:\n",
    "    municipality.to_parquet(base_path.joinpath('data', province_id, 'municipality.parquet'))"
   ]
  },
  {
   "cell_type": "code",
   "execution_count": 11,
   "metadata": {},
   "outputs": [
    {
     "data": {
      "text/html": [
       "<div>\n",
       "<style scoped>\n",
       "    .dataframe tbody tr th:only-of-type {\n",
       "        vertical-align: middle;\n",
       "    }\n",
       "\n",
       "    .dataframe tbody tr th {\n",
       "        vertical-align: top;\n",
       "    }\n",
       "\n",
       "    .dataframe thead th {\n",
       "        text-align: right;\n",
       "    }\n",
       "</style>\n",
       "<table border=\"1\" class=\"dataframe\">\n",
       "  <thead>\n",
       "    <tr style=\"text-align: right;\">\n",
       "      <th></th>\n",
       "      <th>id_area</th>\n",
       "      <th>name</th>\n",
       "      <th>pob_t_total</th>\n",
       "      <th>geometry</th>\n",
       "    </tr>\n",
       "  </thead>\n",
       "  <tbody>\n",
       "    <tr>\n",
       "      <th>0</th>\n",
       "      <td>3090201</td>\n",
       "      <td>3090201</td>\n",
       "      <td>16138.0</td>\n",
       "      <td>MULTIPOLYGON (((-0.85187 37.73054, -0.85195 37...</td>\n",
       "    </tr>\n",
       "    <tr>\n",
       "      <th>1</th>\n",
       "      <td>3090101</td>\n",
       "      <td>3090101</td>\n",
       "      <td>16206.0</td>\n",
       "      <td>MULTIPOLYGON (((-1.03423 38.04692, -1.03974 38...</td>\n",
       "    </tr>\n",
       "    <tr>\n",
       "      <th>2</th>\n",
       "      <td>3004301</td>\n",
       "      <td>3004301</td>\n",
       "      <td>34432.0</td>\n",
       "      <td>MULTIPOLYGON (((-1.11967 38.73772, -1.11950 38...</td>\n",
       "    </tr>\n",
       "    <tr>\n",
       "      <th>3</th>\n",
       "      <td>3004201</td>\n",
       "      <td>3004201</td>\n",
       "      <td>2910.0</td>\n",
       "      <td>MULTIPOLYGON (((-1.31083 38.12816, -1.31010 38...</td>\n",
       "    </tr>\n",
       "    <tr>\n",
       "      <th>4</th>\n",
       "      <td>3004106</td>\n",
       "      <td>3004106</td>\n",
       "      <td>997.0</td>\n",
       "      <td>MULTIPOLYGON (((-0.87233 37.60224, -0.84062 37...</td>\n",
       "    </tr>\n",
       "  </tbody>\n",
       "</table>\n",
       "</div>"
      ],
      "text/plain": [
       "   id_area     name  pob_t_total  \\\n",
       "0  3090201  3090201      16138.0   \n",
       "1  3090101  3090101      16206.0   \n",
       "2  3004301  3004301      34432.0   \n",
       "3  3004201  3004201       2910.0   \n",
       "4  3004106  3004106        997.0   \n",
       "\n",
       "                                            geometry  \n",
       "0  MULTIPOLYGON (((-0.85187 37.73054, -0.85195 37...  \n",
       "1  MULTIPOLYGON (((-1.03423 38.04692, -1.03974 38...  \n",
       "2  MULTIPOLYGON (((-1.11967 38.73772, -1.11950 38...  \n",
       "3  MULTIPOLYGON (((-1.31083 38.12816, -1.31010 38...  \n",
       "4  MULTIPOLYGON (((-0.87233 37.60224, -0.84062 37...  "
      ]
     },
     "execution_count": 11,
     "metadata": {},
     "output_type": "execute_result"
    }
   ],
   "source": [
    "query = f\"\"\"\n",
    "\n",
    "\"\"\"\n",
    "\n",
    "if query_postgres:\n",
    "    district = gpd.GeoDataFrame.from_postgis(query, conn, geom_col='geometry')\n",
    "else:\n",
    "    district = gpd.read_parquet(base_path.joinpath('data', province_id, 'district.parquet'))\n",
    "\n",
    "district.head()"
   ]
  },
  {
   "cell_type": "code",
   "execution_count": 12,
   "metadata": {},
   "outputs": [],
   "source": [
    "if query_postgres:\n",
    "    district.to_parquet(base_path.joinpath('data', province_id, 'district.parquet'))"
   ]
  },
  {
   "cell_type": "code",
   "execution_count": 13,
   "metadata": {},
   "outputs": [
    {
     "data": {
      "text/html": [
       "<div>\n",
       "<style scoped>\n",
       "    .dataframe tbody tr th:only-of-type {\n",
       "        vertical-align: middle;\n",
       "    }\n",
       "\n",
       "    .dataframe tbody tr th {\n",
       "        vertical-align: top;\n",
       "    }\n",
       "\n",
       "    .dataframe thead th {\n",
       "        text-align: right;\n",
       "    }\n",
       "</style>\n",
       "<table border=\"1\" class=\"dataframe\">\n",
       "  <thead>\n",
       "    <tr style=\"text-align: right;\">\n",
       "      <th></th>\n",
       "      <th>id_area</th>\n",
       "      <th>name</th>\n",
       "      <th>pob_t_total</th>\n",
       "      <th>geometry</th>\n",
       "    </tr>\n",
       "  </thead>\n",
       "  <tbody>\n",
       "    <tr>\n",
       "      <th>0</th>\n",
       "      <td>30001</td>\n",
       "      <td>30001</td>\n",
       "      <td>6672.558439</td>\n",
       "      <td>MULTIPOLYGON (((-1.12543 37.98749, -1.12644 37...</td>\n",
       "    </tr>\n",
       "    <tr>\n",
       "      <th>1</th>\n",
       "      <td>30002</td>\n",
       "      <td>30002</td>\n",
       "      <td>20612.835950</td>\n",
       "      <td>MULTIPOLYGON (((-1.12798 37.98225, -1.12794 37...</td>\n",
       "    </tr>\n",
       "    <tr>\n",
       "      <th>2</th>\n",
       "      <td>30009</td>\n",
       "      <td>30009</td>\n",
       "      <td>51048.864231</td>\n",
       "      <td>MULTIPOLYGON (((-1.16049 37.99899, -1.16046 37...</td>\n",
       "    </tr>\n",
       "    <tr>\n",
       "      <th>3</th>\n",
       "      <td>30005</td>\n",
       "      <td>30005</td>\n",
       "      <td>8933.290422</td>\n",
       "      <td>MULTIPOLYGON (((-1.13518 37.98922, -1.13513 37...</td>\n",
       "    </tr>\n",
       "    <tr>\n",
       "      <th>4</th>\n",
       "      <td>30003</td>\n",
       "      <td>30003</td>\n",
       "      <td>11593.958973</td>\n",
       "      <td>MULTIPOLYGON (((-1.12372 37.98900, -1.12363 37...</td>\n",
       "    </tr>\n",
       "  </tbody>\n",
       "</table>\n",
       "</div>"
      ],
      "text/plain": [
       "  id_area   name   pob_t_total  \\\n",
       "0   30001  30001   6672.558439   \n",
       "1   30002  30002  20612.835950   \n",
       "2   30009  30009  51048.864231   \n",
       "3   30005  30005   8933.290422   \n",
       "4   30003  30003  11593.958973   \n",
       "\n",
       "                                            geometry  \n",
       "0  MULTIPOLYGON (((-1.12543 37.98749, -1.12644 37...  \n",
       "1  MULTIPOLYGON (((-1.12798 37.98225, -1.12794 37...  \n",
       "2  MULTIPOLYGON (((-1.16049 37.99899, -1.16046 37...  \n",
       "3  MULTIPOLYGON (((-1.13518 37.98922, -1.13513 37...  \n",
       "4  MULTIPOLYGON (((-1.12372 37.98900, -1.12363 37...  "
      ]
     },
     "execution_count": 13,
     "metadata": {},
     "output_type": "execute_result"
    }
   ],
   "source": [
    "query = f\"\"\"\n",
    "\n",
    "\"\"\"\n",
    "\n",
    "if query_postgres:\n",
    "    zip_code = gpd.GeoDataFrame.from_postgis(query, conn, geom_col='geometry')\n",
    "else:\n",
    "    zip_code = gpd.read_parquet(base_path.joinpath('data', province_id, 'zip_code.parquet'))\n",
    "\n",
    "zip_code.head()"
   ]
  },
  {
   "cell_type": "code",
   "execution_count": 14,
   "metadata": {},
   "outputs": [],
   "source": [
    "if query_postgres:\n",
    "    zip_code.to_parquet(base_path.joinpath('data', province_id, 'zip_code.parquet'))"
   ]
  },
  {
   "cell_type": "code",
   "execution_count": 15,
   "metadata": {},
   "outputs": [
    {
     "data": {
      "text/html": [
       "<div>\n",
       "<style scoped>\n",
       "    .dataframe tbody tr th:only-of-type {\n",
       "        vertical-align: middle;\n",
       "    }\n",
       "\n",
       "    .dataframe tbody tr th {\n",
       "        vertical-align: top;\n",
       "    }\n",
       "\n",
       "    .dataframe thead th {\n",
       "        text-align: right;\n",
       "    }\n",
       "</style>\n",
       "<table border=\"1\" class=\"dataframe\">\n",
       "  <thead>\n",
       "    <tr style=\"text-align: right;\">\n",
       "      <th></th>\n",
       "      <th>id_area</th>\n",
       "      <th>name</th>\n",
       "      <th>pob_t_total</th>\n",
       "      <th>geometry</th>\n",
       "    </tr>\n",
       "  </thead>\n",
       "  <tbody>\n",
       "    <tr>\n",
       "      <th>0</th>\n",
       "      <td>3090101002</td>\n",
       "      <td>3090101002</td>\n",
       "      <td>1528.0</td>\n",
       "      <td>MULTIPOLYGON (((-1.04729 38.06279, -1.04704 38...</td>\n",
       "    </tr>\n",
       "    <tr>\n",
       "      <th>1</th>\n",
       "      <td>3003401001</td>\n",
       "      <td>3003401001</td>\n",
       "      <td>1264.0</td>\n",
       "      <td>MULTIPOLYGON (((-1.46975 38.19402, -1.46960 38...</td>\n",
       "    </tr>\n",
       "    <tr>\n",
       "      <th>2</th>\n",
       "      <td>3003003045</td>\n",
       "      <td>3003003045</td>\n",
       "      <td>855.0</td>\n",
       "      <td>MULTIPOLYGON (((-1.12760 37.97707, -1.12758 37...</td>\n",
       "    </tr>\n",
       "    <tr>\n",
       "      <th>3</th>\n",
       "      <td>3001501020</td>\n",
       "      <td>3001501020</td>\n",
       "      <td>1142.0</td>\n",
       "      <td>MULTIPOLYGON (((-1.85853 38.10228, -1.85954 38...</td>\n",
       "    </tr>\n",
       "    <tr>\n",
       "      <th>4</th>\n",
       "      <td>3090101008</td>\n",
       "      <td>3090101008</td>\n",
       "      <td>1052.0</td>\n",
       "      <td>MULTIPOLYGON (((-1.04986 38.06294, -1.05229 38...</td>\n",
       "    </tr>\n",
       "  </tbody>\n",
       "</table>\n",
       "</div>"
      ],
      "text/plain": [
       "      id_area        name  pob_t_total  \\\n",
       "0  3090101002  3090101002       1528.0   \n",
       "1  3003401001  3003401001       1264.0   \n",
       "2  3003003045  3003003045        855.0   \n",
       "3  3001501020  3001501020       1142.0   \n",
       "4  3090101008  3090101008       1052.0   \n",
       "\n",
       "                                            geometry  \n",
       "0  MULTIPOLYGON (((-1.04729 38.06279, -1.04704 38...  \n",
       "1  MULTIPOLYGON (((-1.46975 38.19402, -1.46960 38...  \n",
       "2  MULTIPOLYGON (((-1.12760 37.97707, -1.12758 37...  \n",
       "3  MULTIPOLYGON (((-1.85853 38.10228, -1.85954 38...  \n",
       "4  MULTIPOLYGON (((-1.04986 38.06294, -1.05229 38...  "
      ]
     },
     "execution_count": 15,
     "metadata": {},
     "output_type": "execute_result"
    }
   ],
   "source": [
    "query = f\"\"\"\n",
    "\n",
    "\"\"\"\n",
    "\n",
    "\n",
    "if query_postgres:\n",
    "    census_section = gpd.GeoDataFrame.from_postgis(query, conn, geom_col='geometry')\n",
    "else:\n",
    "    census_section = gpd.read_parquet(base_path.joinpath('data', province_id, 'census_section.parquet'))\n",
    "    \n",
    "census_section.head()"
   ]
  },
  {
   "cell_type": "code",
   "execution_count": 16,
   "metadata": {},
   "outputs": [],
   "source": [
    "if query_postgres:\n",
    "    census_section.to_parquet(base_path.joinpath('data', province_id, 'census_section.parquet'))"
   ]
  },
  {
   "cell_type": "markdown",
   "metadata": {},
   "source": [
    "## Find optimal aggregation"
   ]
  },
  {
   "cell_type": "code",
   "execution_count": 17,
   "metadata": {},
   "outputs": [],
   "source": [
    "# Obtain province codes\n",
    "province['province_id'] = province['id_area']\n",
    "province_ids = province['province_id'].tolist()\n",
    "\n",
    "municipality['province_id'] = municipality['id_area'].str[:2]\n",
    "# municipality['latitude'] = municipality['geometry'].centroid.y\n",
    "# municipality['longitude'] = municipality['geometry'].centroid.x\n",
    "\n",
    "district['province_id'] = district['id_area'].str[:2]\n",
    "# district['latitude'] = district['geometry'].centroid.y\n",
    "# district['longitude'] = district['geometry'].centroid.x\n",
    "\n",
    "zip_code['province_id'] = zip_code['id_area'].str[:2]\n",
    "# zip_code['latitude'] = zip_code['geometry'].centroid.y\n",
    "# zip_code['longitude'] = zip_code['geometry'].centroid.x\n",
    "\n",
    "census_section['province_id'] = census_section['id_area'].str[:2]\n",
    "census_section['municipality_id'] = census_section['id_area'].str[:5]\n",
    "# census_section['latitude'] = census_section['geometry'].centroid.y\n",
    "# census_section['longitude'] = census_section['geometry'].centroid.x"
   ]
  },
  {
   "cell_type": "code",
   "execution_count": 18,
   "metadata": {},
   "outputs": [],
   "source": [
    "query = f\"province_id == '{province_id}'\""
   ]
  },
  {
   "cell_type": "code",
   "execution_count": 19,
   "metadata": {},
   "outputs": [
    {
     "name": "stdout",
     "output_type": "stream",
     "text": [
      "User Guide: https://docs.kepler.gl/docs/keplergl-jupyter\n",
      "Map saved to /home/iplaton/myprojects/diputado-distrito/maps/30/province.html!\n"
     ]
    }
   ],
   "source": [
    "province_cp = province.query(query).copy()\n",
    "municipality_cp = municipality.query(query).copy()\n",
    "district_cp = district.query(query).copy()\n",
    "zip_code_cp = zip_code.query(query).copy()\n",
    "census_section_cp = census_section.query(query).copy()\n",
    "\n",
    "geo_data = {\n",
    "    'province': province_cp, \n",
    "    'municipality': municipality_cp,\n",
    "    'district': district_cp,\n",
    "    'zip_code': zip_code_cp,\n",
    "    'census_section': census_section_cp\n",
    "}\n",
    "\n",
    "KeplerGl(height=800, width=1000).save_to_html(\n",
    "    geo_data, file_name=base_path.joinpath('maps', province_id, 'province.html'), center_map=True)"
   ]
  },
  {
   "cell_type": "code",
   "execution_count": 20,
   "metadata": {},
   "outputs": [
    {
     "name": "stdout",
     "output_type": "stream",
     "text": [
      "(1226, 6)\n"
     ]
    },
    {
     "data": {
      "text/html": [
       "<div>\n",
       "<style scoped>\n",
       "    .dataframe tbody tr th:only-of-type {\n",
       "        vertical-align: middle;\n",
       "    }\n",
       "\n",
       "    .dataframe tbody tr th {\n",
       "        vertical-align: top;\n",
       "    }\n",
       "\n",
       "    .dataframe thead th {\n",
       "        text-align: right;\n",
       "    }\n",
       "</style>\n",
       "<table border=\"1\" class=\"dataframe\">\n",
       "  <thead>\n",
       "    <tr style=\"text-align: right;\">\n",
       "      <th></th>\n",
       "      <th>id_area</th>\n",
       "      <th>name</th>\n",
       "      <th>pob_t_total</th>\n",
       "      <th>geometry</th>\n",
       "      <th>province_id</th>\n",
       "      <th>municipality_id</th>\n",
       "    </tr>\n",
       "  </thead>\n",
       "  <tbody>\n",
       "    <tr>\n",
       "      <th>0</th>\n",
       "      <td>3090101002</td>\n",
       "      <td>3090101002</td>\n",
       "      <td>1528.0</td>\n",
       "      <td>MULTIPOLYGON (((-1.04729 38.06279, -1.04704 38...</td>\n",
       "      <td>30</td>\n",
       "      <td>30901</td>\n",
       "    </tr>\n",
       "    <tr>\n",
       "      <th>1</th>\n",
       "      <td>3003401001</td>\n",
       "      <td>3003401001</td>\n",
       "      <td>1264.0</td>\n",
       "      <td>MULTIPOLYGON (((-1.46975 38.19402, -1.46960 38...</td>\n",
       "      <td>30</td>\n",
       "      <td>30034</td>\n",
       "    </tr>\n",
       "    <tr>\n",
       "      <th>2</th>\n",
       "      <td>3003003045</td>\n",
       "      <td>3003003045</td>\n",
       "      <td>855.0</td>\n",
       "      <td>MULTIPOLYGON (((-1.12760 37.97707, -1.12758 37...</td>\n",
       "      <td>30</td>\n",
       "      <td>30030</td>\n",
       "    </tr>\n",
       "    <tr>\n",
       "      <th>3</th>\n",
       "      <td>3001501020</td>\n",
       "      <td>3001501020</td>\n",
       "      <td>1142.0</td>\n",
       "      <td>MULTIPOLYGON (((-1.85853 38.10228, -1.85954 38...</td>\n",
       "      <td>30</td>\n",
       "      <td>30015</td>\n",
       "    </tr>\n",
       "    <tr>\n",
       "      <th>4</th>\n",
       "      <td>3090101008</td>\n",
       "      <td>3090101008</td>\n",
       "      <td>1052.0</td>\n",
       "      <td>MULTIPOLYGON (((-1.04986 38.06294, -1.05229 38...</td>\n",
       "      <td>30</td>\n",
       "      <td>30901</td>\n",
       "    </tr>\n",
       "  </tbody>\n",
       "</table>\n",
       "</div>"
      ],
      "text/plain": [
       "      id_area        name  pob_t_total  \\\n",
       "0  3090101002  3090101002       1528.0   \n",
       "1  3003401001  3003401001       1264.0   \n",
       "2  3003003045  3003003045        855.0   \n",
       "3  3001501020  3001501020       1142.0   \n",
       "4  3090101008  3090101008       1052.0   \n",
       "\n",
       "                                            geometry province_id  \\\n",
       "0  MULTIPOLYGON (((-1.04729 38.06279, -1.04704 38...          30   \n",
       "1  MULTIPOLYGON (((-1.46975 38.19402, -1.46960 38...          30   \n",
       "2  MULTIPOLYGON (((-1.12760 37.97707, -1.12758 37...          30   \n",
       "3  MULTIPOLYGON (((-1.85853 38.10228, -1.85954 38...          30   \n",
       "4  MULTIPOLYGON (((-1.04986 38.06294, -1.05229 38...          30   \n",
       "\n",
       "  municipality_id  \n",
       "0           30901  \n",
       "1           30034  \n",
       "2           30030  \n",
       "3           30015  \n",
       "4           30901  "
      ]
     },
     "execution_count": 20,
     "metadata": {},
     "output_type": "execute_result"
    }
   ],
   "source": [
    "print(census_section.shape)\n",
    "census_section.head()"
   ]
  },
  {
   "cell_type": "code",
   "execution_count": 21,
   "metadata": {},
   "outputs": [
    {
     "name": "stdout",
     "output_type": "stream",
     "text": [
      "(45, 3)\n"
     ]
    },
    {
     "data": {
      "text/html": [
       "<div>\n",
       "<style scoped>\n",
       "    .dataframe tbody tr th:only-of-type {\n",
       "        vertical-align: middle;\n",
       "    }\n",
       "\n",
       "    .dataframe tbody tr th {\n",
       "        vertical-align: top;\n",
       "    }\n",
       "\n",
       "    .dataframe thead th {\n",
       "        text-align: right;\n",
       "    }\n",
       "</style>\n",
       "<table border=\"1\" class=\"dataframe\">\n",
       "  <thead>\n",
       "    <tr style=\"text-align: right;\">\n",
       "      <th></th>\n",
       "      <th>municipality_id</th>\n",
       "      <th>geometry</th>\n",
       "      <th>pob_t_total</th>\n",
       "    </tr>\n",
       "  </thead>\n",
       "  <tbody>\n",
       "    <tr>\n",
       "      <th>0</th>\n",
       "      <td>30001</td>\n",
       "      <td>POLYGON ((-0.99167 38.19615, -0.99169 38.19614...</td>\n",
       "      <td>6127.0</td>\n",
       "    </tr>\n",
       "    <tr>\n",
       "      <th>1</th>\n",
       "      <td>30002</td>\n",
       "      <td>POLYGON ((-1.41131 38.21379, -1.40832 38.21330...</td>\n",
       "      <td>12964.0</td>\n",
       "    </tr>\n",
       "    <tr>\n",
       "      <th>2</th>\n",
       "      <td>30003</td>\n",
       "      <td>MULTIPOLYGON (((-1.59163 37.40163, -1.59185 37...</td>\n",
       "      <td>35301.0</td>\n",
       "    </tr>\n",
       "    <tr>\n",
       "      <th>3</th>\n",
       "      <td>30004</td>\n",
       "      <td>POLYGON ((-1.35931 38.03755, -1.35908 38.03741...</td>\n",
       "      <td>1373.0</td>\n",
       "    </tr>\n",
       "    <tr>\n",
       "      <th>4</th>\n",
       "      <td>30005</td>\n",
       "      <td>POLYGON ((-1.20478 37.95938, -1.20457 37.95891...</td>\n",
       "      <td>42048.0</td>\n",
       "    </tr>\n",
       "  </tbody>\n",
       "</table>\n",
       "</div>"
      ],
      "text/plain": [
       "  municipality_id                                           geometry  \\\n",
       "0           30001  POLYGON ((-0.99167 38.19615, -0.99169 38.19614...   \n",
       "1           30002  POLYGON ((-1.41131 38.21379, -1.40832 38.21330...   \n",
       "2           30003  MULTIPOLYGON (((-1.59163 37.40163, -1.59185 37...   \n",
       "3           30004  POLYGON ((-1.35931 38.03755, -1.35908 38.03741...   \n",
       "4           30005  POLYGON ((-1.20478 37.95938, -1.20457 37.95891...   \n",
       "\n",
       "   pob_t_total  \n",
       "0       6127.0  \n",
       "1      12964.0  \n",
       "2      35301.0  \n",
       "3       1373.0  \n",
       "4      42048.0  "
      ]
     },
     "execution_count": 21,
     "metadata": {},
     "output_type": "execute_result"
    }
   ],
   "source": [
    "municipality_agg = census_section.dissolve(by='municipality_id', aggfunc='sum').reset_index()\n",
    "print(municipality_agg.shape)\n",
    "municipality_agg.head()"
   ]
  },
  {
   "cell_type": "code",
   "execution_count": 22,
   "metadata": {},
   "outputs": [
    {
     "data": {
      "text/html": [
       "<div>\n",
       "<style scoped>\n",
       "    .dataframe tbody tr th:only-of-type {\n",
       "        vertical-align: middle;\n",
       "    }\n",
       "\n",
       "    .dataframe tbody tr th {\n",
       "        vertical-align: top;\n",
       "    }\n",
       "\n",
       "    .dataframe thead th {\n",
       "        text-align: right;\n",
       "    }\n",
       "</style>\n",
       "<table border=\"1\" class=\"dataframe\">\n",
       "  <thead>\n",
       "    <tr style=\"text-align: right;\">\n",
       "      <th></th>\n",
       "      <th>id_area</th>\n",
       "      <th>geometry</th>\n",
       "      <th>pob_t_total</th>\n",
       "    </tr>\n",
       "  </thead>\n",
       "  <tbody>\n",
       "    <tr>\n",
       "      <th>0</th>\n",
       "      <td>30001</td>\n",
       "      <td>POLYGON ((-0.99167 38.19615, -0.99169 38.19614...</td>\n",
       "      <td>6127.0</td>\n",
       "    </tr>\n",
       "    <tr>\n",
       "      <th>1</th>\n",
       "      <td>30002</td>\n",
       "      <td>POLYGON ((-1.41131 38.21379, -1.40832 38.21330...</td>\n",
       "      <td>12964.0</td>\n",
       "    </tr>\n",
       "    <tr>\n",
       "      <th>3</th>\n",
       "      <td>30004</td>\n",
       "      <td>POLYGON ((-1.35931 38.03755, -1.35908 38.03741...</td>\n",
       "      <td>1373.0</td>\n",
       "    </tr>\n",
       "    <tr>\n",
       "      <th>5</th>\n",
       "      <td>30006</td>\n",
       "      <td>POLYGON ((-1.65895 37.75374, -1.65977 37.75476...</td>\n",
       "      <td>1022.0</td>\n",
       "    </tr>\n",
       "    <tr>\n",
       "      <th>6</th>\n",
       "      <td>30007</td>\n",
       "      <td>POLYGON ((-1.23375 38.05056, -1.23218 38.04928...</td>\n",
       "      <td>9638.0</td>\n",
       "    </tr>\n",
       "  </tbody>\n",
       "</table>\n",
       "</div>"
      ],
      "text/plain": [
       "  id_area                                           geometry  pob_t_total\n",
       "0   30001  POLYGON ((-0.99167 38.19615, -0.99169 38.19614...       6127.0\n",
       "1   30002  POLYGON ((-1.41131 38.21379, -1.40832 38.21330...      12964.0\n",
       "3   30004  POLYGON ((-1.35931 38.03755, -1.35908 38.03741...       1373.0\n",
       "5   30006  POLYGON ((-1.65895 37.75374, -1.65977 37.75476...       1022.0\n",
       "6   30007  POLYGON ((-1.23375 38.05056, -1.23218 38.04928...       9638.0"
      ]
     },
     "execution_count": 22,
     "metadata": {},
     "output_type": "execute_result"
    }
   ],
   "source": [
    "mask = municipality_agg[variable] < target\n",
    "\n",
    "gdf_area = municipality_agg[mask].copy()\n",
    "\n",
    "# Feature eng for concat\n",
    "gdf_area = gdf_area.rename(columns = {'municipality_id': 'id_area'})\n",
    "gdf_area.head()"
   ]
  },
  {
   "cell_type": "code",
   "execution_count": 23,
   "metadata": {},
   "outputs": [
    {
     "data": {
      "text/html": [
       "<div>\n",
       "<style scoped>\n",
       "    .dataframe tbody tr th:only-of-type {\n",
       "        vertical-align: middle;\n",
       "    }\n",
       "\n",
       "    .dataframe tbody tr th {\n",
       "        vertical-align: top;\n",
       "    }\n",
       "\n",
       "    .dataframe thead th {\n",
       "        text-align: right;\n",
       "    }\n",
       "</style>\n",
       "<table border=\"1\" class=\"dataframe\">\n",
       "  <thead>\n",
       "    <tr style=\"text-align: right;\">\n",
       "      <th></th>\n",
       "      <th>municipality_id</th>\n",
       "      <th>geometry</th>\n",
       "      <th>pob_t_total</th>\n",
       "    </tr>\n",
       "  </thead>\n",
       "  <tbody>\n",
       "    <tr>\n",
       "      <th>2</th>\n",
       "      <td>30003</td>\n",
       "      <td>MULTIPOLYGON (((-1.59163 37.40163, -1.59185 37...</td>\n",
       "      <td>35301.0</td>\n",
       "    </tr>\n",
       "    <tr>\n",
       "      <th>4</th>\n",
       "      <td>30005</td>\n",
       "      <td>POLYGON ((-1.20478 37.95938, -1.20457 37.95891...</td>\n",
       "      <td>42048.0</td>\n",
       "    </tr>\n",
       "    <tr>\n",
       "      <th>15</th>\n",
       "      <td>30016</td>\n",
       "      <td>POLYGON ((-0.87201 37.58752, -0.87199 37.58598...</td>\n",
       "      <td>214802.0</td>\n",
       "    </tr>\n",
       "    <tr>\n",
       "      <th>18</th>\n",
       "      <td>30019</td>\n",
       "      <td>POLYGON ((-1.31888 38.31345, -1.31893 38.31329...</td>\n",
       "      <td>34988.0</td>\n",
       "    </tr>\n",
       "    <tr>\n",
       "      <th>23</th>\n",
       "      <td>30024</td>\n",
       "      <td>POLYGON ((-1.64745 37.52725, -1.64766 37.52683...</td>\n",
       "      <td>94404.0</td>\n",
       "    </tr>\n",
       "  </tbody>\n",
       "</table>\n",
       "</div>"
      ],
      "text/plain": [
       "   municipality_id                                           geometry  \\\n",
       "2            30003  MULTIPOLYGON (((-1.59163 37.40163, -1.59185 37...   \n",
       "4            30005  POLYGON ((-1.20478 37.95938, -1.20457 37.95891...   \n",
       "15           30016  POLYGON ((-0.87201 37.58752, -0.87199 37.58598...   \n",
       "18           30019  POLYGON ((-1.31888 38.31345, -1.31893 38.31329...   \n",
       "23           30024  POLYGON ((-1.64745 37.52725, -1.64766 37.52683...   \n",
       "\n",
       "    pob_t_total  \n",
       "2       35301.0  \n",
       "4       42048.0  \n",
       "15     214802.0  \n",
       "18      34988.0  \n",
       "23      94404.0  "
      ]
     },
     "execution_count": 23,
     "metadata": {},
     "output_type": "execute_result"
    }
   ],
   "source": [
    "# Municipalities with more than target population\n",
    "filtered_out = municipality_agg[~mask].copy()\n",
    "filtered_out.head()"
   ]
  },
  {
   "cell_type": "code",
   "execution_count": 24,
   "metadata": {},
   "outputs": [
    {
     "data": {
      "text/plain": [
       "<AxesSubplot:>"
      ]
     },
     "execution_count": 24,
     "metadata": {},
     "output_type": "execute_result"
    },
    {
     "data": {
      "image/png": "[encoded data removed]",
      "text/plain": [
       "<Figure size 432x288 with 1 Axes>"
      ]
     },
     "metadata": {
      "needs_background": "light"
     },
     "output_type": "display_data"
    }
   ],
   "source": [
    "gdf_area.plot()"
   ]
  },
  {
   "cell_type": "code",
   "execution_count": 25,
   "metadata": {},
   "outputs": [
    {
     "data": {
      "text/plain": [
       "<AxesSubplot:>"
      ]
     },
     "execution_count": 25,
     "metadata": {},
     "output_type": "execute_result"
    },
    {
     "data": {
      "image/png": "[encoded data removed]",
      "text/plain": [
       "<Figure size 432x288 with 1 Axes>"
      ]
     },
     "metadata": {
      "needs_background": "light"
     },
     "output_type": "display_data"
    }
   ],
   "source": [
    "filtered_census_section = filtered_out['municipality_id'].tolist()\n",
    "difference = census_section[census_section['municipality_id'].isin(filtered_census_section)]\n",
    "\n",
    "# Feature eng for concat\n",
    "difference = difference.drop(['name', 'province_id', 'municipality_id'], axis=1)\n",
    "\n",
    "# Filter out from zip_code\n",
    "#Graph.from_geodataframe(difference)\n",
    "if difference.shape[0]!=0:\n",
    "    difference.plot()"
   ]
  },
  {
   "cell_type": "code",
   "execution_count": 26,
   "metadata": {},
   "outputs": [
    {
     "name": "stdout",
     "output_type": "stream",
     "text": [
      "(875, 3)\n"
     ]
    },
    {
     "data": {
      "text/plain": [
       "<AxesSubplot:>"
      ]
     },
     "execution_count": 26,
     "metadata": {},
     "output_type": "execute_result"
    },
    {
     "data": {
      "image/png": "[encoded data removed]",
      "text/plain": [
       "<Figure size 432x288 with 1 Axes>"
      ]
     },
     "metadata": {
      "needs_background": "light"
     },
     "output_type": "display_data"
    }
   ],
   "source": [
    "cols = difference.columns\n",
    "\n",
    "gdf = gpd.GeoDataFrame(pd.concat([gdf_area[cols], difference], ignore_index=True))\n",
    "print(gdf.shape)\n",
    "gdf.plot()"
   ]
  },
  {
   "cell_type": "code",
   "execution_count": 27,
   "metadata": {},
   "outputs": [
    {
     "data": {
      "text/html": [
       "<div>\n",
       "<style scoped>\n",
       "    .dataframe tbody tr th:only-of-type {\n",
       "        vertical-align: middle;\n",
       "    }\n",
       "\n",
       "    .dataframe tbody tr th {\n",
       "        vertical-align: top;\n",
       "    }\n",
       "\n",
       "    .dataframe thead th {\n",
       "        text-align: right;\n",
       "    }\n",
       "</style>\n",
       "<table border=\"1\" class=\"dataframe\">\n",
       "  <thead>\n",
       "    <tr style=\"text-align: right;\">\n",
       "      <th></th>\n",
       "      <th>id_area</th>\n",
       "      <th>pob_t_total</th>\n",
       "      <th>geometry</th>\n",
       "    </tr>\n",
       "  </thead>\n",
       "  <tbody>\n",
       "    <tr>\n",
       "      <th>0</th>\n",
       "      <td>30001</td>\n",
       "      <td>6127.0</td>\n",
       "      <td>POLYGON ((-0.99167 38.19615, -0.99169 38.19614...</td>\n",
       "    </tr>\n",
       "    <tr>\n",
       "      <th>1</th>\n",
       "      <td>30002</td>\n",
       "      <td>12964.0</td>\n",
       "      <td>POLYGON ((-1.41131 38.21379, -1.40832 38.21330...</td>\n",
       "    </tr>\n",
       "    <tr>\n",
       "      <th>2</th>\n",
       "      <td>30004</td>\n",
       "      <td>1373.0</td>\n",
       "      <td>POLYGON ((-1.35931 38.03755, -1.35908 38.03741...</td>\n",
       "    </tr>\n",
       "    <tr>\n",
       "      <th>3</th>\n",
       "      <td>30006</td>\n",
       "      <td>1022.0</td>\n",
       "      <td>POLYGON ((-1.65895 37.75374, -1.65977 37.75476...</td>\n",
       "    </tr>\n",
       "    <tr>\n",
       "      <th>4</th>\n",
       "      <td>30007</td>\n",
       "      <td>9638.0</td>\n",
       "      <td>POLYGON ((-1.23375 38.05056, -1.23218 38.04928...</td>\n",
       "    </tr>\n",
       "  </tbody>\n",
       "</table>\n",
       "</div>"
      ],
      "text/plain": [
       "  id_area  pob_t_total                                           geometry\n",
       "0   30001       6127.0  POLYGON ((-0.99167 38.19615, -0.99169 38.19614...\n",
       "1   30002      12964.0  POLYGON ((-1.41131 38.21379, -1.40832 38.21330...\n",
       "2   30004       1373.0  POLYGON ((-1.35931 38.03755, -1.35908 38.03741...\n",
       "3   30006       1022.0  POLYGON ((-1.65895 37.75374, -1.65977 37.75476...\n",
       "4   30007       9638.0  POLYGON ((-1.23375 38.05056, -1.23218 38.04928..."
      ]
     },
     "execution_count": 27,
     "metadata": {},
     "output_type": "execute_result"
    }
   ],
   "source": [
    "gdf.head()"
   ]
  },
  {
   "cell_type": "code",
   "execution_count": 28,
   "metadata": {},
   "outputs": [
    {
     "data": {
      "text/html": [
       "<div>\n",
       "<style scoped>\n",
       "    .dataframe tbody tr th:only-of-type {\n",
       "        vertical-align: middle;\n",
       "    }\n",
       "\n",
       "    .dataframe tbody tr th {\n",
       "        vertical-align: top;\n",
       "    }\n",
       "\n",
       "    .dataframe thead th {\n",
       "        text-align: right;\n",
       "    }\n",
       "</style>\n",
       "<table border=\"1\" class=\"dataframe\">\n",
       "  <thead>\n",
       "    <tr style=\"text-align: right;\">\n",
       "      <th></th>\n",
       "      <th>id_area</th>\n",
       "      <th>pob_t_total</th>\n",
       "      <th>geometry</th>\n",
       "    </tr>\n",
       "  </thead>\n",
       "  <tbody>\n",
       "    <tr>\n",
       "      <th>870</th>\n",
       "      <td>3003001049</td>\n",
       "      <td>967.0</td>\n",
       "      <td>MULTIPOLYGON (((-1.14468 38.00633, -1.14468 38...</td>\n",
       "    </tr>\n",
       "    <tr>\n",
       "      <th>871</th>\n",
       "      <td>3003006015</td>\n",
       "      <td>1052.0</td>\n",
       "      <td>MULTIPOLYGON (((-1.04928 37.97948, -1.05018 37...</td>\n",
       "    </tr>\n",
       "    <tr>\n",
       "      <th>872</th>\n",
       "      <td>3003002015</td>\n",
       "      <td>1166.0</td>\n",
       "      <td>MULTIPOLYGON (((-1.12164 37.99091, -1.12164 37...</td>\n",
       "    </tr>\n",
       "    <tr>\n",
       "      <th>873</th>\n",
       "      <td>3001609004</td>\n",
       "      <td>1286.0</td>\n",
       "      <td>MULTIPOLYGON (((-1.04362 37.62911, -1.04359 37...</td>\n",
       "    </tr>\n",
       "    <tr>\n",
       "      <th>874</th>\n",
       "      <td>3002401044</td>\n",
       "      <td>1546.0</td>\n",
       "      <td>MULTIPOLYGON (((-1.68422 37.68262, -1.68408 37...</td>\n",
       "    </tr>\n",
       "  </tbody>\n",
       "</table>\n",
       "</div>"
      ],
      "text/plain": [
       "        id_area  pob_t_total  \\\n",
       "870  3003001049        967.0   \n",
       "871  3003006015       1052.0   \n",
       "872  3003002015       1166.0   \n",
       "873  3001609004       1286.0   \n",
       "874  3002401044       1546.0   \n",
       "\n",
       "                                              geometry  \n",
       "870  MULTIPOLYGON (((-1.14468 38.00633, -1.14468 38...  \n",
       "871  MULTIPOLYGON (((-1.04928 37.97948, -1.05018 37...  \n",
       "872  MULTIPOLYGON (((-1.12164 37.99091, -1.12164 37...  \n",
       "873  MULTIPOLYGON (((-1.04362 37.62911, -1.04359 37...  \n",
       "874  MULTIPOLYGON (((-1.68422 37.68262, -1.68408 37...  "
      ]
     },
     "execution_count": 28,
     "metadata": {},
     "output_type": "execute_result"
    }
   ],
   "source": [
    "gdf.tail()"
   ]
  },
  {
   "cell_type": "code",
   "execution_count": 29,
   "metadata": {},
   "outputs": [
    {
     "name": "stderr",
     "output_type": "stream",
     "text": [
      "/home/iplaton/myprojects/diputado-distrito/.venv/lib/python3.6/site-packages/gerrychain/graph/graph.py:152: UserWarning: Geometry is in a geographic CRS. Results from 'area' are likely incorrect. Use 'GeoSeries.to_crs()' to re-project geometries to a projected CRS before this operation.\n",
      "\n",
      "  areas = df.geometry.area.to_dict()\n"
     ]
    }
   ],
   "source": [
    "graph = Graph.from_geodataframe(gdf)\n",
    "graph.add_data(gdf)"
   ]
  },
  {
   "cell_type": "code",
   "execution_count": 30,
   "metadata": {},
   "outputs": [],
   "source": [
    "myupdaters = {\n",
    "    \"population\": updaters.Tally(variable, alias=\"population\"),\n",
    "    \"cut_edges\": updaters.cut_edges,\n",
    "}"
   ]
  },
  {
   "cell_type": "code",
   "execution_count": 31,
   "metadata": {},
   "outputs": [
    {
     "name": "stdout",
     "output_type": "stream",
     "text": [
      "45.26963636363636\n"
     ]
    },
    {
     "data": {
      "text/plain": [
       "<AxesSubplot:>"
      ]
     },
     "execution_count": 31,
     "metadata": {},
     "output_type": "execute_result"
    },
    {
     "data": {
      "image/png": "[encoded data removed]",
      "text/plain": [
       "<Figure size 432x288 with 1 Axes>"
      ]
     },
     "metadata": {
      "needs_background": "light"
     },
     "output_type": "display_data"
    }
   ],
   "source": [
    "total_population = sum([graph.nodes[n][variable] for n in graph.nodes])\n",
    "districts = total_population / target\n",
    "print(districts)\n",
    "\n",
    "assignment = tree.recursive_tree_part(\n",
    "    graph, \n",
    "    range(int(round(districts))),\n",
    "    target, #ideal population for a district\n",
    "    variable,\n",
    "    init_epsilon\n",
    ")\n",
    "\n",
    "#make a GerryChain Partition object\n",
    "initial_partition = Partition(graph, assignment, myupdaters)\n",
    "initial_partition.plot(gdf) #you have to hand it gdf, the geodataframe for the graph"
   ]
  },
  {
   "cell_type": "code",
   "execution_count": 32,
   "metadata": {},
   "outputs": [
    {
     "data": {
      "text/plain": [
       "count       45.000000\n",
       "mean     33197.733333\n",
       "std       4499.404938\n",
       "min      24272.000000\n",
       "25%      31294.000000\n",
       "50%      32767.000000\n",
       "75%      34724.000000\n",
       "max      47881.000000\n",
       "Name: pob_t_total, dtype: float64"
      ]
     },
     "metadata": {},
     "output_type": "display_data"
    },
    {
     "data": {
      "text/html": [
       "<div>\n",
       "<style scoped>\n",
       "    .dataframe tbody tr th:only-of-type {\n",
       "        vertical-align: middle;\n",
       "    }\n",
       "\n",
       "    .dataframe tbody tr th {\n",
       "        vertical-align: top;\n",
       "    }\n",
       "\n",
       "    .dataframe thead th {\n",
       "        text-align: right;\n",
       "    }\n",
       "</style>\n",
       "<table border=\"1\" class=\"dataframe\">\n",
       "  <thead>\n",
       "    <tr style=\"text-align: right;\">\n",
       "      <th></th>\n",
       "      <th>id_area</th>\n",
       "      <th>pob_t_total</th>\n",
       "      <th>geometry</th>\n",
       "      <th>district</th>\n",
       "    </tr>\n",
       "  </thead>\n",
       "  <tbody>\n",
       "    <tr>\n",
       "      <th>0</th>\n",
       "      <td>30001</td>\n",
       "      <td>6127.0</td>\n",
       "      <td>POLYGON ((-0.99167 38.19615, -0.99169 38.19614...</td>\n",
       "      <td>15</td>\n",
       "    </tr>\n",
       "    <tr>\n",
       "      <th>1</th>\n",
       "      <td>30002</td>\n",
       "      <td>12964.0</td>\n",
       "      <td>POLYGON ((-1.41131 38.21379, -1.40832 38.21330...</td>\n",
       "      <td>13</td>\n",
       "    </tr>\n",
       "    <tr>\n",
       "      <th>2</th>\n",
       "      <td>30004</td>\n",
       "      <td>1373.0</td>\n",
       "      <td>POLYGON ((-1.35931 38.03755, -1.35908 38.03741...</td>\n",
       "      <td>13</td>\n",
       "    </tr>\n",
       "    <tr>\n",
       "      <th>3</th>\n",
       "      <td>30006</td>\n",
       "      <td>1022.0</td>\n",
       "      <td>POLYGON ((-1.65895 37.75374, -1.65977 37.75476...</td>\n",
       "      <td>2</td>\n",
       "    </tr>\n",
       "    <tr>\n",
       "      <th>4</th>\n",
       "      <td>30007</td>\n",
       "      <td>9638.0</td>\n",
       "      <td>POLYGON ((-1.23375 38.05056, -1.23218 38.04928...</td>\n",
       "      <td>5</td>\n",
       "    </tr>\n",
       "  </tbody>\n",
       "</table>\n",
       "</div>"
      ],
      "text/plain": [
       "  id_area  pob_t_total                                           geometry  \\\n",
       "0   30001       6127.0  POLYGON ((-0.99167 38.19615, -0.99169 38.19614...   \n",
       "1   30002      12964.0  POLYGON ((-1.41131 38.21379, -1.40832 38.21330...   \n",
       "2   30004       1373.0  POLYGON ((-1.35931 38.03755, -1.35908 38.03741...   \n",
       "3   30006       1022.0  POLYGON ((-1.65895 37.75374, -1.65977 37.75476...   \n",
       "4   30007       9638.0  POLYGON ((-1.23375 38.05056, -1.23218 38.04928...   \n",
       "\n",
       "   district  \n",
       "0        15  \n",
       "1        13  \n",
       "2        13  \n",
       "3         2  \n",
       "4         5  "
      ]
     },
     "execution_count": 32,
     "metadata": {},
     "output_type": "execute_result"
    }
   ],
   "source": [
    "mapper = {graph.nodes[node]['id_area']: node for node in graph.nodes}\n",
    "gdf['district'] = gdf['id_area'].apply(lambda x: assignment.get(mapper.get(x)))\n",
    "display(gdf.groupby('district')[variable].sum().describe())\n",
    "gdf.head()"
   ]
  },
  {
   "cell_type": "code",
   "execution_count": 33,
   "metadata": {},
   "outputs": [
    {
     "data": {
      "text/plain": [
       "(875, 4)"
      ]
     },
     "execution_count": 33,
     "metadata": {},
     "output_type": "execute_result"
    }
   ],
   "source": [
    "gdf.shape"
   ]
  },
  {
   "cell_type": "code",
   "execution_count": 34,
   "metadata": {},
   "outputs": [],
   "source": [
    "districts = gdf.dissolve(by='district', aggfunc='sum').reset_index().copy()"
   ]
  },
  {
   "cell_type": "code",
   "execution_count": 35,
   "metadata": {},
   "outputs": [
    {
     "name": "stdout",
     "output_type": "stream",
     "text": [
      "User Guide: https://docs.kepler.gl/docs/keplergl-jupyter\n",
      "Map saved to /home/iplaton/myprojects/diputado-distrito/maps/30/initialized-map.html!\n"
     ]
    }
   ],
   "source": [
    "kepler = KeplerGl(height=800, width=1000)\n",
    "\n",
    "municipality_agg_cp = municipality_agg.copy()\n",
    "kepler.add_data(data=municipality_agg_cp, name='municipality')\n",
    "\n",
    "districts_cp = districts.copy()\n",
    "kepler.add_data(data=districts_cp, name='district')\n",
    "\n",
    "gdf_cp = gdf.copy()\n",
    "kepler.add_data(data=gdf_cp, name='municipalites-censussection')\n",
    "\n",
    "\n",
    "kepler.save_to_html(file_name=base_path.joinpath('maps', province_id, 'initialized-map.html'))"
   ]
  },
  {
   "cell_type": "code",
   "execution_count": 36,
   "metadata": {},
   "outputs": [],
   "source": [
    "#no need for contiguity since that is forced by the proposal\n",
    "myconstraints = [\n",
    "    constraints.contiguous, #fast contiguity tracker only for flip walks\n",
    "    constraints.contiguous_bfs,\n",
    "    constraints.within_percent_of_ideal_population(initial_partition, percent=partition_percentage) #population deviation\n",
    "]\n",
    "\n",
    "#little python trick to fix some parameters in the proposal function\n",
    "myproposal = partial(\n",
    "    proposals.recom,\n",
    "    pop_col=variable,\n",
    "    pop_target=target,\n",
    "    epsilon=epsilon, #population tolerance\n",
    "    node_repeats=node_repeats #parameter for spanning tree method, set to 2 is fine\n",
    ")"
   ]
  },
  {
   "cell_type": "code",
   "execution_count": 37,
   "metadata": {},
   "outputs": [],
   "source": [
    "# Configure the MarkovChain.\n",
    "chain = MarkovChain(\n",
    "    proposal=myproposal,\n",
    "    constraints=myconstraints,\n",
    "    accept=accept.always_accept,\n",
    "    initial_state=initial_partition,\n",
    "    total_steps=total_steps\n",
    ")"
   ]
  },
  {
   "cell_type": "code",
   "execution_count": 38,
   "metadata": {
    "scrolled": true
   },
   "outputs": [
    {
     "name": "stdout",
     "output_type": "stream",
     "text": [
      "0 1 2 3 4 5 6 7 8 9 10 11 12 13 14 15 16 17 18 19 20 21 22 23 24 25 26 27 28 29 30 31 32 33 34 35 36 37 38 39 40 41 42 43 44 45 46 47 48 49 50 51 52 53 54 55 "
     ]
    }
   ],
   "source": [
    "try:\n",
    "    for i, step in enumerate(chain, 1):\n",
    "        print(i, end=\" \")\n",
    "        gdf['flipstep{}'.format(i)] = [step.assignment[n] for n in graph.nodes] #store plan\n",
    "except:\n",
    "    warnings.warn('Flipsteps did not complete succesfully')"
   ]
  },
  {
   "cell_type": "code",
   "execution_count": 39,
   "metadata": {},
   "outputs": [],
   "source": [
    "# Obtain all possible iterations\n",
    "iterations = [col for col in gdf if 'flipstep' in col]\n",
    "\n",
    "iteration_gdfs = {}\n",
    "residuals = {}\n",
    "for column in iterations:\n",
    "    # Store geopandas dataframe for each iteration\n",
    "    districts = gdf.dissolve(by=column, aggfunc='sum').reset_index()\n",
    "    iteration_gdfs[column] = districts\n",
    "\n",
    "    # Obtain and store residuals for each case\n",
    "    districts['target_pob'] = target\n",
    "    districts['residuals'] = (districts['target_pob'] - districts['pob_t_total']).abs()\n",
    "    residuals[column] = (districts['residuals'].sum(), districts['residuals'].std())"
   ]
  },
  {
   "cell_type": "code",
   "execution_count": 40,
   "metadata": {
    "scrolled": true
   },
   "outputs": [
    {
     "data": {
      "text/plain": [
       "{'flipstep0': (140731.99999999983, 3206.5333614208876),\n",
       " 'flipstep1': (148411.99999999983, 3276.344630422612),\n",
       " 'flipstep2': (150523.7185929647, 3235.937637245907),\n",
       " 'flipstep3': (152831.71859296475, 3311.9992998691814),\n",
       " 'flipstep4': (164489.99999999988, 3610.2997961494407),\n",
       " 'flipstep9': (164895.7185929648, 3580.6498766888035),\n",
       " 'flipstep7': (165887.7185929648, 3577.883435492657),\n",
       " 'flipstep8': (165887.7185929648, 3591.8942667382735),\n",
       " 'flipstep10': (171827.99999999994, 3718.8617486053136),\n",
       " 'flipstep14': (175893.99999999994, 3625.973350644378),\n",
       " 'flipstep15': (175893.99999999994, 3625.973350644378),\n",
       " 'flipstep16': (175893.99999999994, 3622.49970368799),\n",
       " 'flipstep11': (177209.99999999994, 3757.2386446049054),\n",
       " 'flipstep12': (177209.99999999994, 3751.5056317750314),\n",
       " 'flipstep13': (177209.99999999994, 3754.2321277294695),\n",
       " 'flipstep5': (177545.99999999994, 3868.772099056796),\n",
       " 'flipstep6': (177545.99999999994, 3849.2213214769886),\n",
       " 'flipstep19': (178451.71859296464, 3672.9252393472243),\n",
       " 'flipstep17': (179579.99999999988, 3622.113227456108),\n",
       " 'flipstep18': (181507.99999999988, 3649.331879931755),\n",
       " 'flipstep20': (188299.71859296464, 3770.380271659773),\n",
       " 'flipstep21': (192465.71859296464, 3851.001089620241),\n",
       " 'flipstep22': (194541.71859296458, 3829.3641715193257),\n",
       " 'flipstep23': (194541.71859296458, 3829.3641715193257),\n",
       " 'flipstep30': (199193.7185929647, 3454.9071939530486),\n",
       " 'flipstep29': (199587.71859296464, 3457.6834750524977),\n",
       " 'flipstep24': (201717.71859296446, 3803.9011391830895),\n",
       " 'flipstep25': (204725.71859296458, 3784.9105814376608),\n",
       " 'flipstep31': (205129.7185929647, 3353.997078727639),\n",
       " 'flipstep46': (206385.99999999977, 3489.074989133653),\n",
       " 'flipstep49': (206823.99999999983, 3386.9364195539642),\n",
       " 'flipstep37': (207579.7185929647, 3396.8527426872756),\n",
       " 'flipstep38': (207579.7185929647, 3396.8527426872756),\n",
       " 'flipstep39': (207579.71859296472, 3330.9491427918424),\n",
       " 'flipstep26': (208101.71859296464, 3807.37668302979),\n",
       " 'flipstep45': (210989.99999999988, 3405.5109682021975),\n",
       " 'flipstep48': (211301.99999999983, 3351.478421397179),\n",
       " 'flipstep47': (212275.99999999983, 3382.582641304207),\n",
       " 'flipstep51': (212617.99999999983, 3580.3641190879657),\n",
       " 'flipstep32': (212873.8820807031, 3473.9403496897994),\n",
       " 'flipstep33': (212873.8820807031, 3483.202557016012),\n",
       " 'flipstep50': (213847.99999999983, 3580.305473819043),\n",
       " 'flipstep40': (215161.99999999988, 3370.206625615175),\n",
       " 'flipstep41': (215161.99999999988, 3348.9484393604744),\n",
       " 'flipstep52': (215437.99999999983, 3656.1819853641077),\n",
       " 'flipstep53': (215437.99999999983, 3656.1819853641077),\n",
       " 'flipstep54': (215437.99999999983, 3647.3590733709),\n",
       " 'flipstep27': (217787.71859296458, 3811.7703468193877),\n",
       " 'flipstep28': (217787.71859296458, 3727.5592909839384),\n",
       " 'flipstep43': (219527.99999999983, 3313.907034960947),\n",
       " 'flipstep44': (219527.99999999983, 3313.907034960947),\n",
       " 'flipstep55': (219617.99999999983, 3663.849294737091),\n",
       " 'flipstep36': (219731.7185929647, 3428.8245891613797),\n",
       " 'flipstep34': (220929.8820807031, 3440.143452891731),\n",
       " 'flipstep42': (221595.99999999988, 3294.299974995073),\n",
       " 'flipstep35': (223395.8820807031, 3481.9148111374393)}"
      ]
     },
     "execution_count": 40,
     "metadata": {},
     "output_type": "execute_result"
    }
   ],
   "source": [
    "flip_step_order = {k: v for k, v in sorted(residuals.items(), key=lambda item: item[1][0])}\n",
    "flip_step_order"
   ]
  },
  {
   "cell_type": "code",
   "execution_count": 41,
   "metadata": {},
   "outputs": [
    {
     "name": "stdout",
     "output_type": "stream",
     "text": [
      "User Guide: https://docs.kepler.gl/docs/keplergl-jupyter\n",
      "Map saved to /home/iplaton/myprojects/diputado-distrito/maps/30/districts-ordered-iterations-top-10.html!\n"
     ]
    }
   ],
   "source": [
    "province_cp = province.copy()\n",
    "municipality_cp = municipality.copy()\n",
    "zip_code_cp = zip_code.copy()\n",
    "census_section_cp = census_section.copy()\n",
    "gdf_cp = gdf.copy()\n",
    "\n",
    "\n",
    "geo_data = {\n",
    "    'province': province_cp, \n",
    "    'municipality': municipality_cp,\n",
    "    'zip_code': zip_code_cp,\n",
    "    'census_section': census_section_cp,\n",
    "    'municipalites-censussection': gdf_cp\n",
    "}\n",
    "\n",
    "to_json = {}\n",
    "for n, order in enumerate(list(flip_step_order.keys())[:top_iteration]):\n",
    "    \n",
    "    map_df = iteration_gdfs[order].copy()\n",
    "    geo_data[f'iteration_{n}'] = map_df\n",
    "    \n",
    "    json_df = iteration_gdfs[order].copy()\n",
    "    to_json[f'iteration_{n}'] = json_df\n",
    "\n",
    "# Create maps\n",
    "KeplerGl(height=800, width=1000).save_to_html(\n",
    "    geo_data, \n",
    "    file_name=base_path.joinpath('maps', province_id, f'districts-ordered-iterations-top-{top_iteration}.html'),\n",
    "    center_map=True\n",
    ")"
   ]
  },
  {
   "cell_type": "code",
   "execution_count": 42,
   "metadata": {},
   "outputs": [],
   "source": [
    "\n",
    "# Iteration number selected to transform to GeoJson\n",
    "# iteration_num = 40\n",
    "\n",
    "# to_json[f'iteration_{n}'].to_file(f'districts-selected-iteration-{iteration_num}.json', driver='GeoJSON')"
   ]
  }
 ],
 "metadata": {
  "celltoolbar": "Tags",
  "kernelspec": {
   "display_name": "Python 3",
   "language": "python",
   "name": "python3"
  },
  "language_info": {
   "codemirror_mode": {
    "name": "ipython",
    "version": 3
   },
   "file_extension": ".py",
   "mimetype": "text/x-python",
   "name": "python",
   "nbconvert_exporter": "python",
   "pygments_lexer": "ipython3",
   "version": "3.6.8"
  }
 },
 "nbformat": 4,
 "nbformat_minor": 4
}
